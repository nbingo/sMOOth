{
 "cells": [
  {
   "cell_type": "code",
   "execution_count": 38,
   "id": "7a2ec422-b3df-437b-a2f0-110196382299",
   "metadata": {},
   "outputs": [],
   "source": [
    "import argparse\n",
    "from detectron2.config import LazyConfig\n",
    "from detectron2.config import LazyCall as L\n",
    "import sys\n",
    "from omegaconf import OmegaConf as oc"
   ]
  },
  {
   "cell_type": "code",
   "execution_count": 17,
   "id": "6b2e767f-4b2c-4ddf-a54f-9688422c3bdb",
   "metadata": {},
   "outputs": [],
   "source": [
    "parser = argparse.ArgumentParser(description='Try different MOO methods.')\n",
    "parser.add_argument('-c', '--config', type=str, nargs=1, required=True, help='The config file to use for this experiment')\n",
    "parser.add_argument('-g', '--gpus', type=int, nargs='+', required=False, default=[1], help='List of GPUs to use')\n",
    "# Parse the arguments and pass them to the config\n",
    "args = parser.parse_args(['-c', 'configs/config.py', '-g', '1', '2', '3'])"
   ]
  },
  {
   "cell_type": "code",
   "execution_count": 31,
   "id": "f1aacda5-a275-4172-a6c3-7abbda553249",
   "metadata": {},
   "outputs": [
    {
     "data": {
      "text/plain": [
       "{'config': ['configs/config.py'], 'gpus': [1, 2, 3]}"
      ]
     },
     "execution_count": 31,
     "metadata": {},
     "output_type": "execute_result"
    }
   ],
   "source": [
    "args.__dict__"
   ]
  },
  {
   "cell_type": "code",
   "execution_count": 29,
   "id": "45409688-dc7f-43d1-8393-5e2104c8bdfc",
   "metadata": {},
   "outputs": [],
   "source": [
    "sys.argv = ['-c=configs/config.py', '-g=[1,2,3]']"
   ]
  },
  {
   "cell_type": "code",
   "execution_count": 33,
   "id": "c7bd4cef-fe3c-4cc6-b140-40f5f6e8185d",
   "metadata": {},
   "outputs": [],
   "source": [
    "config1 = oc.create(args.__dict__)"
   ]
  },
  {
   "cell_type": "code",
   "execution_count": 34,
   "id": "626c055f-1dc2-44ac-a75b-47bf7962b542",
   "metadata": {},
   "outputs": [],
   "source": [
    "config2 = oc.create({'config': 'configs/better_config.py'})"
   ]
  },
  {
   "cell_type": "code",
   "execution_count": 37,
   "id": "a8380426-47ac-42f5-81a7-357c79b33da8",
   "metadata": {},
   "outputs": [
    {
     "data": {
      "text/plain": [
       "{'config': 'configs/better_config.py', 'gpus': [1, 2, 3]}"
      ]
     },
     "execution_count": 37,
     "metadata": {},
     "output_type": "execute_result"
    }
   ],
   "source": [
    "oc.merge(config1, config2)"
   ]
  },
  {
   "cell_type": "code",
   "execution_count": 44,
   "id": "7d4ca15a-6660-4c58-b027-093ce7f131a5",
   "metadata": {},
   "outputs": [],
   "source": [
    "configs = L(argparse.ArgumentParser)(description='Try different MOO methods.',\n",
    "                         optim=L(sum)(iterable=(1,2)))"
   ]
  },
  {
   "cell_type": "code",
   "execution_count": 48,
   "id": "fb20e4c7-6b8c-4631-b5f6-630e7e6133bc",
   "metadata": {},
   "outputs": [
    {
     "data": {
      "text/plain": [
       "{'description': 'Try different MOO methods.', 'optim': {'iterable': [1, 2], '_target_': <built-in function sum>}, '_target_': <class 'argparse.ArgumentParser'>}"
      ]
     },
     "execution_count": 48,
     "metadata": {},
     "output_type": "execute_result"
    }
   ],
   "source": [
    "configs"
   ]
  },
  {
   "cell_type": "code",
   "execution_count": 49,
   "id": "54c5dc69-b0c9-4d11-a239-93ba9a2311f4",
   "metadata": {},
   "outputs": [],
   "source": [
    "configs_cli = L(argparse.ArgumentParser)(description='cli config')"
   ]
  },
  {
   "cell_type": "code",
   "execution_count": 50,
   "id": "79b034be-6e6d-4353-a4be-f9e15eeed191",
   "metadata": {},
   "outputs": [
    {
     "data": {
      "text/plain": [
       "{'description': 'cli config', 'optim': {'iterable': [1, 2], '_target_': <built-in function sum>}, '_target_': <class 'argparse.ArgumentParser'>}"
      ]
     },
     "execution_count": 50,
     "metadata": {},
     "output_type": "execute_result"
    }
   ],
   "source": [
    "oc.merge(configs, configs_cli)"
   ]
  },
  {
   "cell_type": "code",
   "execution_count": 7,
   "id": "83c7c198-89f7-4511-b206-e52483a79f33",
   "metadata": {},
   "outputs": [
    {
     "ename": "AttributeError",
     "evalue": "'list' object has no attribute 'replace'",
     "output_type": "error",
     "traceback": [
      "\u001b[0;31m---------------------------------------------------------------------------\u001b[0m",
      "\u001b[0;31mAttributeError\u001b[0m                            Traceback (most recent call last)",
      "Input \u001b[0;32mIn [7]\u001b[0m, in \u001b[0;36m<module>\u001b[0;34m\u001b[0m\n\u001b[0;32m----> 1\u001b[0m cfg \u001b[38;5;241m=\u001b[39m \u001b[43mLazyConfig\u001b[49m\u001b[38;5;241;43m.\u001b[39;49m\u001b[43mload\u001b[49m\u001b[43m(\u001b[49m\u001b[43margs\u001b[49m\u001b[38;5;241;43m.\u001b[39;49m\u001b[43mconfig\u001b[49m\u001b[43m)\u001b[49m\n",
      "File \u001b[0;32m/lfs/turing3/0/nomir/mambaforge/envs/moo-mtl/lib/python3.9/site-packages/detectron2/config/lazy.py:185\u001b[0m, in \u001b[0;36mLazyConfig.load\u001b[0;34m(filename, keys)\u001b[0m\n\u001b[1;32m    176\u001b[0m \u001b[38;5;124;03m\"\"\"\u001b[39;00m\n\u001b[1;32m    177\u001b[0m \u001b[38;5;124;03mLoad a config file.\u001b[39;00m\n\u001b[1;32m    178\u001b[0m \n\u001b[0;32m   (...)\u001b[0m\n\u001b[1;32m    182\u001b[0m \u001b[38;5;124;03m        (whose values are config objects) in a dict.\u001b[39;00m\n\u001b[1;32m    183\u001b[0m \u001b[38;5;124;03m\"\"\"\u001b[39;00m\n\u001b[1;32m    184\u001b[0m has_keys \u001b[38;5;241m=\u001b[39m keys \u001b[38;5;129;01mis\u001b[39;00m \u001b[38;5;129;01mnot\u001b[39;00m \u001b[38;5;28;01mNone\u001b[39;00m\n\u001b[0;32m--> 185\u001b[0m filename \u001b[38;5;241m=\u001b[39m \u001b[43mfilename\u001b[49m\u001b[38;5;241;43m.\u001b[39;49m\u001b[43mreplace\u001b[49m(\u001b[38;5;124m\"\u001b[39m\u001b[38;5;124m/./\u001b[39m\u001b[38;5;124m\"\u001b[39m, \u001b[38;5;124m\"\u001b[39m\u001b[38;5;124m/\u001b[39m\u001b[38;5;124m\"\u001b[39m)  \u001b[38;5;66;03m# redundant\u001b[39;00m\n\u001b[1;32m    186\u001b[0m \u001b[38;5;28;01mif\u001b[39;00m os\u001b[38;5;241m.\u001b[39mpath\u001b[38;5;241m.\u001b[39msplitext(filename)[\u001b[38;5;241m1\u001b[39m] \u001b[38;5;129;01mnot\u001b[39;00m \u001b[38;5;129;01min\u001b[39;00m [\u001b[38;5;124m\"\u001b[39m\u001b[38;5;124m.py\u001b[39m\u001b[38;5;124m\"\u001b[39m, \u001b[38;5;124m\"\u001b[39m\u001b[38;5;124m.yaml\u001b[39m\u001b[38;5;124m\"\u001b[39m, \u001b[38;5;124m\"\u001b[39m\u001b[38;5;124m.yml\u001b[39m\u001b[38;5;124m\"\u001b[39m]:\n\u001b[1;32m    187\u001b[0m     \u001b[38;5;28;01mraise\u001b[39;00m \u001b[38;5;167;01mValueError\u001b[39;00m(\u001b[38;5;124mf\u001b[39m\u001b[38;5;124m\"\u001b[39m\u001b[38;5;124mConfig file \u001b[39m\u001b[38;5;132;01m{\u001b[39;00mfilename\u001b[38;5;132;01m}\u001b[39;00m\u001b[38;5;124m has to be a python or yaml file.\u001b[39m\u001b[38;5;124m\"\u001b[39m)\n",
      "\u001b[0;31mAttributeError\u001b[0m: 'list' object has no attribute 'replace'"
     ]
    }
   ],
   "source": [
    "cfg = LazyConfig.load(args.config)"
   ]
  },
  {
   "cell_type": "code",
   "execution_count": 7,
   "id": "8779fe20-a950-4693-adf2-61b081b59e9c",
   "metadata": {},
   "outputs": [
    {
     "data": {
      "text/plain": [
       "32"
      ]
     },
     "execution_count": 7,
     "metadata": {},
     "output_type": "execute_result"
    }
   ],
   "source": [
    "256//8"
   ]
  },
  {
   "cell_type": "code",
   "execution_count": null,
   "id": "1ab5103e-488e-4b41-84a4-965c7cc8dfb3",
   "metadata": {},
   "outputs": [],
   "source": []
  }
 ],
 "metadata": {
  "kernelspec": {
   "display_name": "Python 3 (ipykernel)",
   "language": "python",
   "name": "python3"
  },
  "language_info": {
   "codemirror_mode": {
    "name": "ipython",
    "version": 3
   },
   "file_extension": ".py",
   "mimetype": "text/x-python",
   "name": "python",
   "nbconvert_exporter": "python",
   "pygments_lexer": "ipython3",
   "version": "3.9.9"
  }
 },
 "nbformat": 4,
 "nbformat_minor": 5
}
